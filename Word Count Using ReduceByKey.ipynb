{
 "cells": [
  {
   "cell_type": "code",
   "execution_count": 0,
   "metadata": {
    "application/vnd.databricks.v1+cell": {
     "cellMetadata": {
      "byteLimit": 2048000,
      "rowLimit": 10000
     },
     "inputWidgets": {},
     "nuid": "2dc9fec7-9062-48d0-9509-b9256c551839",
     "showTitle": false,
     "title": ""
    }
   },
   "outputs": [],
   "source": [
    "from pyspark import SparkConf, SparkContext\n",
    "\n",
    "# Use reduceByKey to find the number of reptition of each word\n",
    "\n",
    "conf = SparkConf().setAppName(\"Word\")\n",
    "sc = SparkContext.getOrCreate(conf)"
   ]
  },
  {
   "cell_type": "code",
   "execution_count": 0,
   "metadata": {
    "application/vnd.databricks.v1+cell": {
     "cellMetadata": {
      "byteLimit": 2048000,
      "rowLimit": 10000
     },
     "inputWidgets": {},
     "nuid": "d2154ffd-67bb-42dc-8b69-000bf93adfb7",
     "showTitle": false,
     "title": ""
    }
   },
   "outputs": [],
   "source": [
    "rdd = sc.textFile(\"/FileStore/tables/lakers.txt\")\n",
    "# Get the file"
   ]
  },
  {
   "cell_type": "code",
   "execution_count": 0,
   "metadata": {
    "application/vnd.databricks.v1+cell": {
     "cellMetadata": {
      "byteLimit": 2048000,
      "rowLimit": 10000
     },
     "inputWidgets": {},
     "nuid": "0c3bd3f5-6d2c-4055-a34f-ca8e2dcb4e1e",
     "showTitle": false,
     "title": ""
    }
   },
   "outputs": [],
   "source": [
    "split = rdd.flatMap(lambda x: x.split(\" \"))\n",
    "\n",
    "#Split and normalize the data into words"
   ]
  },
  {
   "cell_type": "code",
   "execution_count": 0,
   "metadata": {
    "application/vnd.databricks.v1+cell": {
     "cellMetadata": {
      "byteLimit": 2048000,
      "rowLimit": 10000
     },
     "inputWidgets": {},
     "nuid": "f8cf82fe-2df2-483b-b63f-9ee9e9aeb17d",
     "showTitle": false,
     "title": ""
    }
   },
   "outputs": [
    {
     "output_type": "stream",
     "name": "stdout",
     "output_type": "stream",
     "text": [
      "Out[10]: ['the',\n 'lakers',\n 'are',\n 'amazing',\n 'the',\n 'lakers',\n 'have',\n 'won',\n '18',\n 'championships',\n 'many',\n 'great',\n 'players',\n 'have',\n 'player',\n 'for',\n 'the',\n 'lakers',\n 'players',\n 'like',\n 'Kobe,',\n 'Shaq,',\n 'The',\n 'Logo,',\n 'Bron,',\n 'and',\n 'many',\n 'more',\n 'the',\n 'lakers',\n 'will',\n 'always',\n 'be',\n 'better',\n 'than',\n 'the',\n 'celtics']"
     ]
    }
   ],
   "source": [
    "split.collect()\n",
    "# Output the words"
   ]
  },
  {
   "cell_type": "code",
   "execution_count": 0,
   "metadata": {
    "application/vnd.databricks.v1+cell": {
     "cellMetadata": {
      "byteLimit": 2048000,
      "rowLimit": 10000
     },
     "inputWidgets": {},
     "nuid": "8e44be6f-eb25-45b2-8e1a-4f70ec220343",
     "showTitle": false,
     "title": ""
    }
   },
   "outputs": [],
   "source": [
    "num = split.map(lambda x: (x, 1))\n",
    "# Assign each word a value of 1"
   ]
  },
  {
   "cell_type": "code",
   "execution_count": 0,
   "metadata": {
    "application/vnd.databricks.v1+cell": {
     "cellMetadata": {
      "byteLimit": 2048000,
      "rowLimit": 10000
     },
     "inputWidgets": {},
     "nuid": "e4e1c7d9-55f9-4605-a904-11b417bda951",
     "showTitle": false,
     "title": ""
    }
   },
   "outputs": [
    {
     "output_type": "stream",
     "name": "stdout",
     "output_type": "stream",
     "text": [
      "Out[12]: [('the', 1),\n ('lakers', 1),\n ('are', 1),\n ('amazing', 1),\n ('the', 1),\n ('lakers', 1),\n ('have', 1),\n ('won', 1),\n ('18', 1),\n ('championships', 1),\n ('many', 1),\n ('great', 1),\n ('players', 1),\n ('have', 1),\n ('player', 1),\n ('for', 1),\n ('the', 1),\n ('lakers', 1),\n ('players', 1),\n ('like', 1),\n ('Kobe,', 1),\n ('Shaq,', 1),\n ('The', 1),\n ('Logo,', 1),\n ('Bron,', 1),\n ('and', 1),\n ('many', 1),\n ('more', 1),\n ('the', 1),\n ('lakers', 1),\n ('will', 1),\n ('always', 1),\n ('be', 1),\n ('better', 1),\n ('than', 1),\n ('the', 1),\n ('celtics', 1)]"
     ]
    }
   ],
   "source": [
    "num.collect()"
   ]
  },
  {
   "cell_type": "code",
   "execution_count": 0,
   "metadata": {
    "application/vnd.databricks.v1+cell": {
     "cellMetadata": {
      "byteLimit": 2048000,
      "rowLimit": 10000
     },
     "inputWidgets": {},
     "nuid": "f5f22466-628a-4212-b771-d49537bbe7d9",
     "showTitle": false,
     "title": ""
    }
   },
   "outputs": [],
   "source": [
    "numCount = num.reduceByKey(lambda x, y: x+y)\n",
    "# Combine common words"
   ]
  },
  {
   "cell_type": "code",
   "execution_count": 0,
   "metadata": {
    "application/vnd.databricks.v1+cell": {
     "cellMetadata": {
      "byteLimit": 2048000,
      "rowLimit": 10000
     },
     "inputWidgets": {},
     "nuid": "0f076710-8e54-4f99-9b63-37639e13ec22",
     "showTitle": false,
     "title": ""
    }
   },
   "outputs": [
    {
     "output_type": "stream",
     "name": "stdout",
     "output_type": "stream",
     "text": [
      "Out[14]: [('lakers', 4),\n ('are', 1),\n ('have', 2),\n ('players', 2),\n ('like', 1),\n ('Kobe,', 1),\n ('The', 1),\n ('Bron,', 1),\n ('more', 1),\n ('always', 1),\n ('than', 1),\n ('the', 5),\n ('amazing', 1),\n ('won', 1),\n ('18', 1),\n ('championships', 1),\n ('many', 2),\n ('great', 1),\n ('player', 1),\n ('for', 1),\n ('Shaq,', 1),\n ('Logo,', 1),\n ('and', 1),\n ('will', 1),\n ('be', 1),\n ('better', 1),\n ('celtics', 1)]"
     ]
    }
   ],
   "source": [
    "numCount.collect()"
   ]
  },
  {
   "cell_type": "code",
   "execution_count": 0,
   "metadata": {
    "application/vnd.databricks.v1+cell": {
     "cellMetadata": {},
     "inputWidgets": {},
     "nuid": "8b08d5a1-ed63-49fe-a5b6-4c88c161fd71",
     "showTitle": false,
     "title": ""
    }
   },
   "outputs": [],
   "source": []
  }
 ],
 "metadata": {
  "application/vnd.databricks.v1+notebook": {
   "dashboards": [],
   "language": "python",
   "notebookMetadata": {
    "pythonIndentUnit": 4
   },
   "notebookName": "Word Count Using ReduceByKey",
   "widgets": {}
  }
 },
 "nbformat": 4,
 "nbformat_minor": 0
}
