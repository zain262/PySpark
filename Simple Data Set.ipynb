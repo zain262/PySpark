{
 "cells": [
  {
   "cell_type": "code",
   "execution_count": 0,
   "metadata": {
    "application/vnd.databricks.v1+cell": {
     "cellMetadata": {
      "byteLimit": 2048000,
      "rowLimit": 10000
     },
     "inputWidgets": {},
     "nuid": "4def86fa-f06d-41e4-9905-1636805231c7",
     "showTitle": false,
     "title": ""
    }
   },
   "outputs": [],
   "source": [
    "from pyspark import SparkConf, SparkContext\n",
    "from pyspark.sql import SparkSession\n",
    "\n",
    "spark = SparkSession.builder.appName(\"Data Frames\").getOrCreate()\n",
    "# Create a spark session"
   ]
  },
  {
   "cell_type": "code",
   "execution_count": 0,
   "metadata": {
    "application/vnd.databricks.v1+cell": {
     "cellMetadata": {
      "byteLimit": 2048000,
      "rowLimit": 10000
     },
     "inputWidgets": {},
     "nuid": "965e60a2-8e1c-40a1-ae8d-2cbbe0792d08",
     "showTitle": false,
     "title": ""
    }
   },
   "outputs": [],
   "source": [
    "df = spark.read.option(\"header\", \"true\").option(\"inferSchema\", \"true\").option(\"delimiter\", \",\").csv('/FileStore/tables/StudentData.csv')\n",
    "\n",
    "# Read the data in"
   ]
  },
  {
   "cell_type": "code",
   "execution_count": 0,
   "metadata": {
    "application/vnd.databricks.v1+cell": {
     "cellMetadata": {
      "byteLimit": 2048000,
      "rowLimit": 10000
     },
     "inputWidgets": {},
     "nuid": "064666c8-809f-4e23-bd6d-c2a45787728c",
     "showTitle": false,
     "title": ""
    }
   },
   "outputs": [
    {
     "output_type": "stream",
     "name": "stdout",
     "output_type": "stream",
     "text": [
      "root\n |-- age: integer (nullable = true)\n |-- gender: string (nullable = true)\n |-- name: string (nullable = true)\n |-- course: string (nullable = true)\n |-- roll: integer (nullable = true)\n |-- marks: integer (nullable = true)\n |-- email: string (nullable = true)\n\n+---+------+----------------+------+------+-----+--------------------+\n|age|gender|            name|course|  roll|marks|               email|\n+---+------+----------------+------+------+-----+--------------------+\n| 28|Female| Hubert Oliveras|    DB|  2984|   59|Annika Hoffman_Na...|\n| 29|Female|Toshiko Hillyard| Cloud| 12899|   62|Margene Moores_Ma...|\n| 28|  Male|  Celeste Lollis|    PF| 21267|   45|Jeannetta Golden_...|\n| 29|Female|    Elenore Choy|    DB| 32877|   29|Billi Clore_Mitzi...|\n| 28|  Male|  Sheryll Towler|   DSA| 41487|   41|Claude Panos_Judi...|\n| 28|  Male|  Margene Moores|   MVC| 52771|   32|Toshiko Hillyard_...|\n| 28|  Male|     Neda Briski|   OOP| 61973|   69|Alberta Freund_El...|\n| 28|Female|    Claude Panos| Cloud| 72409|   85|Sheryll Towler_Al...|\n| 28|  Male|  Celeste Lollis|   MVC| 81492|   64|Nicole Harwood_Cl...|\n| 29|  Male|  Cordie Harnois|   OOP| 92882|   51|Judie Chipps_Clem...|\n| 29|Female|       Kena Wild|   DSA|102285|   35|Dustin Feagins_Ma...|\n| 29|  Male| Ernest Rossbach|    DB|111449|   53|Maybell Duguay_Ab...|\n| 28|Female|  Latia Vanhoose|    DB|122502|   27|Latia Vanhoose_Mi...|\n| 29|Female|  Latia Vanhoose|   MVC|132110|   55|Eda Neathery_Nico...|\n| 29|  Male|     Neda Briski|    PF|141770|   42|Margene Moores_Mi...|\n| 29|Female|  Latia Vanhoose|    DB|152159|   27|Claude Panos_Sant...|\n| 29|  Male|  Loris Crossett|   MVC|161771|   36|Mitzi Seldon_Jenn...|\n| 29|  Male|  Annika Hoffman|   OOP|171660|   22|Taryn Brownlee_Mi...|\n| 29|  Male|   Santa Kerfien|    PF|182129|   56|Judie Chipps_Tary...|\n| 28|Female|Mickey Cortright|    DB|192537|   62|Ernest Rossbach_M...|\n+---+------+----------------+------+------+-----+--------------------+\nonly showing top 20 rows\n\n"
     ]
    }
   ],
   "source": [
    "df.printSchema()\n",
    "df.show()\n",
    "\n",
    "# Print the schema"
   ]
  },
  {
   "cell_type": "code",
   "execution_count": 0,
   "metadata": {
    "application/vnd.databricks.v1+cell": {
     "cellMetadata": {
      "byteLimit": 2048000,
      "rowLimit": 10000
     },
     "inputWidgets": {},
     "nuid": "a8f7e813-b073-4f91-a3a7-ed1ac43b6508",
     "showTitle": false,
     "title": ""
    }
   },
   "outputs": [
    {
     "output_type": "stream",
     "name": "stdout",
     "output_type": "stream",
     "text": [
      "+---+------+----------------+------+------+-----+--------------------+-----------+\n|age|gender|            name|course|  roll|marks|               email|total marks|\n+---+------+----------------+------+------+-----+--------------------+-----------+\n| 28|Female| Hubert Oliveras|    DB|  2984|   59|Annika Hoffman_Na...|        120|\n| 29|Female|Toshiko Hillyard| Cloud| 12899|   62|Margene Moores_Ma...|        120|\n| 28|  Male|  Celeste Lollis|    PF| 21267|   45|Jeannetta Golden_...|        120|\n| 29|Female|    Elenore Choy|    DB| 32877|   29|Billi Clore_Mitzi...|        120|\n| 28|  Male|  Sheryll Towler|   DSA| 41487|   41|Claude Panos_Judi...|        120|\n| 28|  Male|  Margene Moores|   MVC| 52771|   32|Toshiko Hillyard_...|        120|\n| 28|  Male|     Neda Briski|   OOP| 61973|   69|Alberta Freund_El...|        120|\n| 28|Female|    Claude Panos| Cloud| 72409|   85|Sheryll Towler_Al...|        120|\n| 28|  Male|  Celeste Lollis|   MVC| 81492|   64|Nicole Harwood_Cl...|        120|\n| 29|  Male|  Cordie Harnois|   OOP| 92882|   51|Judie Chipps_Clem...|        120|\n| 29|Female|       Kena Wild|   DSA|102285|   35|Dustin Feagins_Ma...|        120|\n| 29|  Male| Ernest Rossbach|    DB|111449|   53|Maybell Duguay_Ab...|        120|\n| 28|Female|  Latia Vanhoose|    DB|122502|   27|Latia Vanhoose_Mi...|        120|\n| 29|Female|  Latia Vanhoose|   MVC|132110|   55|Eda Neathery_Nico...|        120|\n| 29|  Male|     Neda Briski|    PF|141770|   42|Margene Moores_Mi...|        120|\n| 29|Female|  Latia Vanhoose|    DB|152159|   27|Claude Panos_Sant...|        120|\n| 29|  Male|  Loris Crossett|   MVC|161771|   36|Mitzi Seldon_Jenn...|        120|\n| 29|  Male|  Annika Hoffman|   OOP|171660|   22|Taryn Brownlee_Mi...|        120|\n| 29|  Male|   Santa Kerfien|    PF|182129|   56|Judie Chipps_Tary...|        120|\n| 28|Female|Mickey Cortright|    DB|192537|   62|Ernest Rossbach_M...|        120|\n+---+------+----------------+------+------+-----+--------------------+-----------+\nonly showing top 20 rows\n\n"
     ]
    }
   ],
   "source": [
    "from pyspark.sql.functions import lit,  col\n",
    "\n",
    "df = df.withColumn(\"total marks\", lit(120))\n",
    "df.show()\n",
    "\n",
    "# Add a total marks column"
   ]
  },
  {
   "cell_type": "code",
   "execution_count": 0,
   "metadata": {
    "application/vnd.databricks.v1+cell": {
     "cellMetadata": {
      "byteLimit": 2048000,
      "rowLimit": 10000
     },
     "inputWidgets": {},
     "nuid": "e46922bb-6c86-4cee-9424-6ae2d77dfffb",
     "showTitle": false,
     "title": ""
    }
   },
   "outputs": [
    {
     "output_type": "stream",
     "name": "stdout",
     "output_type": "stream",
     "text": [
      "+---+------+----------------+------+------+-----+--------------------+-----------+------------------+\n|age|gender|            name|course|  roll|marks|               email|total marks|           average|\n+---+------+----------------+------+------+-----+--------------------+-----------+------------------+\n| 28|Female| Hubert Oliveras|    DB|  2984|   59|Annika Hoffman_Na...|        120|49.166666666666664|\n| 29|Female|Toshiko Hillyard| Cloud| 12899|   62|Margene Moores_Ma...|        120| 51.66666666666667|\n| 28|  Male|  Celeste Lollis|    PF| 21267|   45|Jeannetta Golden_...|        120|              37.5|\n| 29|Female|    Elenore Choy|    DB| 32877|   29|Billi Clore_Mitzi...|        120|24.166666666666668|\n| 28|  Male|  Sheryll Towler|   DSA| 41487|   41|Claude Panos_Judi...|        120|34.166666666666664|\n| 28|  Male|  Margene Moores|   MVC| 52771|   32|Toshiko Hillyard_...|        120|26.666666666666668|\n| 28|  Male|     Neda Briski|   OOP| 61973|   69|Alberta Freund_El...|        120| 57.49999999999999|\n| 28|Female|    Claude Panos| Cloud| 72409|   85|Sheryll Towler_Al...|        120| 70.83333333333334|\n| 28|  Male|  Celeste Lollis|   MVC| 81492|   64|Nicole Harwood_Cl...|        120|53.333333333333336|\n| 29|  Male|  Cordie Harnois|   OOP| 92882|   51|Judie Chipps_Clem...|        120|              42.5|\n| 29|Female|       Kena Wild|   DSA|102285|   35|Dustin Feagins_Ma...|        120|29.166666666666668|\n| 29|  Male| Ernest Rossbach|    DB|111449|   53|Maybell Duguay_Ab...|        120|44.166666666666664|\n| 28|Female|  Latia Vanhoose|    DB|122502|   27|Latia Vanhoose_Mi...|        120|              22.5|\n| 29|Female|  Latia Vanhoose|   MVC|132110|   55|Eda Neathery_Nico...|        120| 45.83333333333333|\n| 29|  Male|     Neda Briski|    PF|141770|   42|Margene Moores_Mi...|        120|              35.0|\n| 29|Female|  Latia Vanhoose|    DB|152159|   27|Claude Panos_Sant...|        120|              22.5|\n| 29|  Male|  Loris Crossett|   MVC|161771|   36|Mitzi Seldon_Jenn...|        120|              30.0|\n| 29|  Male|  Annika Hoffman|   OOP|171660|   22|Taryn Brownlee_Mi...|        120|18.333333333333332|\n| 29|  Male|   Santa Kerfien|    PF|182129|   56|Judie Chipps_Tary...|        120|46.666666666666664|\n| 28|Female|Mickey Cortright|    DB|192537|   62|Ernest Rossbach_M...|        120| 51.66666666666667|\n+---+------+----------------+------+------+-----+--------------------+-----------+------------------+\nonly showing top 20 rows\n\n"
     ]
    }
   ],
   "source": [
    "df = df.withColumn(\"average\", col(\"marks\")/col(\"total marks\")*100)\n",
    "df.show()\n",
    "\n",
    "# Add a new average row"
   ]
  },
  {
   "cell_type": "code",
   "execution_count": 0,
   "metadata": {
    "application/vnd.databricks.v1+cell": {
     "cellMetadata": {
      "byteLimit": 2048000,
      "rowLimit": 10000
     },
     "inputWidgets": {},
     "nuid": "a0894465-286e-441a-a80e-8d7855f70cfc",
     "showTitle": false,
     "title": ""
    }
   },
   "outputs": [
    {
     "output_type": "stream",
     "name": "stdout",
     "output_type": "stream",
     "text": [
      "+---+------+------------------+------+-------+-----+--------------------+-----------+-----------------+\n|age|gender|              name|course|   roll|marks|               email|total marks|          average|\n+---+------+------------------+------+-------+-----+--------------------+-----------+-----------------+\n| 28|  Male|    Jenna Montague|   OOP|3331161|   98|Leontine Phillips...|        120|81.66666666666667|\n| 29|Female|Priscila Tavernier|   OOP|3902993|   99|Celeste Lollis_Bi...|        120|             82.5|\n| 28|Female|      Judie Chipps|   OOP|5451977|   99|Tamera Blakley_Mi...|        120|             82.5|\n| 29|  Male|    Margene Moores|   OOP|5621072|   97|Sheryll Towler_Ma...|        120|80.83333333333333|\n| 29|  Male|      Jc Andrepont|   OOP|8022618|   97|Cordie Harnois_Ja...|        120|80.83333333333333|\n| 28|  Male|    Loris Crossett|   OOP|8172914|   98|Paris Hutton_Pari...|        120|81.66666666666667|\n| 28|  Male|    Loris Crossett|   OOP|9692316|   99|Judie Chipps_Mich...|        120|             82.5|\n+---+------+------------------+------+-------+-----+--------------------+-----------+-----------------+\n\n"
     ]
    }
   ],
   "source": [
    "df_above = df.filter((df.course == \"OOP\") & (df.average > 80))\n",
    "df_above.show()\n",
    "\n",
    "# Filter students who have achieved above 80% in a course"
   ]
  },
  {
   "cell_type": "code",
   "execution_count": 0,
   "metadata": {
    "application/vnd.databricks.v1+cell": {
     "cellMetadata": {
      "byteLimit": 2048000,
      "rowLimit": 10000
     },
     "inputWidgets": {},
     "nuid": "e6f226d1-641f-4efd-8c7b-37005ebea58c",
     "showTitle": false,
     "title": ""
    }
   },
   "outputs": [
    {
     "output_type": "stream",
     "name": "stdout",
     "output_type": "stream",
     "text": [
      "+----------------+-----+\n|            name|marks|\n+----------------+-----+\n| Hubert Oliveras|   59|\n|Toshiko Hillyard|   62|\n|  Celeste Lollis|   45|\n|    Elenore Choy|   29|\n|  Sheryll Towler|   41|\n|  Margene Moores|   32|\n|     Neda Briski|   69|\n|    Claude Panos|   85|\n|  Celeste Lollis|   64|\n|  Cordie Harnois|   51|\n|       Kena Wild|   35|\n| Ernest Rossbach|   53|\n|  Latia Vanhoose|   27|\n|  Latia Vanhoose|   55|\n|     Neda Briski|   42|\n|  Latia Vanhoose|   27|\n|  Loris Crossett|   36|\n|  Annika Hoffman|   22|\n|   Santa Kerfien|   56|\n|Mickey Cortright|   62|\n+----------------+-----+\nonly showing top 20 rows\n\n"
     ]
    }
   ],
   "source": [
    "df.select([\"name\", \"marks\"]).show()\n",
    "# Print the name and marks of students"
   ]
  },
  {
   "cell_type": "code",
   "execution_count": 0,
   "metadata": {
    "application/vnd.databricks.v1+cell": {
     "cellMetadata": {
      "byteLimit": 2048000,
      "rowLimit": 10000
     },
     "inputWidgets": {},
     "nuid": "f120b872-669c-4629-a2ab-daaffa497788",
     "showTitle": false,
     "title": ""
    }
   },
   "outputs": [
    {
     "output_type": "stream",
     "name": "stdout",
     "output_type": "stream",
     "text": [
      "Out[20]: 37"
     ]
    }
   ],
   "source": [
    "df.filter(col(\"average\") > 80).count()\n",
    "# Find the number of students whose avg is greater than 80"
   ]
  },
  {
   "cell_type": "code",
   "execution_count": 0,
   "metadata": {
    "application/vnd.databricks.v1+cell": {
     "cellMetadata": {
      "byteLimit": 2048000,
      "rowLimit": 10000
     },
     "inputWidgets": {},
     "nuid": "ee66da94-efed-4e19-986b-9b96930314da",
     "showTitle": false,
     "title": ""
    }
   },
   "outputs": [
    {
     "output_type": "stream",
     "name": "stdout",
     "output_type": "stream",
     "text": [
      "Out[21]: 6"
     ]
    }
   ],
   "source": [
    "df.select(\"course\").distinct().count()\n",
    "\n",
    "# Find the number of courses in the data"
   ]
  },
  {
   "cell_type": "code",
   "execution_count": 0,
   "metadata": {
    "application/vnd.databricks.v1+cell": {
     "cellMetadata": {
      "byteLimit": 2048000,
      "rowLimit": 10000
     },
     "inputWidgets": {},
     "nuid": "ea4c5fd0-aaae-4ded-aa67-c685abb04f5e",
     "showTitle": false,
     "title": ""
    }
   },
   "outputs": [
    {
     "output_type": "stream",
     "name": "stdout",
     "output_type": "stream",
     "text": [
      "+---+------+------------------+------+-------+-----+--------------------+-----------+-----------------+\n|age|gender|              name|course|   roll|marks|               email|total marks|          average|\n+---+------+------------------+------+-------+-----+--------------------+-----------+-----------------+\n| 29|Female|      Paris Hutton|   DSA| 271472|   99|Sheryll Towler_Al...|        120|             82.5|\n| 29|  Male|    Maybell Duguay|    PF| 701486|   99|Clementina Menke_...|        120|             82.5|\n| 29|  Male| Michelle Ruggiero|   DSA|1022971|   99|Cordie Harnois_Cl...|        120|             82.5|\n| 29|Female|Priscila Tavernier|   OOP|3902993|   99|Celeste Lollis_Bi...|        120|             82.5|\n| 29|  Male|   Gonzalo Ferebee|   MVC|5772006|   99|Niki Klimek_Marge...|        120|             82.5|\n| 29|Female|    Alberta Freund|   DSA|6071316|   99|Dustin Feagins_Se...|        120|             82.5|\n| 29|Female|      Eda Neathery|    PF|9222608|   99|Kena Wild_Lawanda...|        120|             82.5|\n| 28|Female|    Melani Engberg| Cloud|1872667|   99|Alberta Freund_Ni...|        120|             82.5|\n| 28|  Male|       Niki Klimek|   DSA|5172507|   99|Marylee Capasso_E...|        120|             82.5|\n| 28|Female|      Judie Chipps|   OOP|5451977|   99|Tamera Blakley_Mi...|        120|             82.5|\n| 28|Female|    Jalisa Swenson|   MVC|5712033|   99|Dustin Feagins_Hu...|        120|             82.5|\n| 28|  Male|    Loris Crossett|   OOP|9692316|   99|Judie Chipps_Mich...|        120|             82.5|\n| 29|  Male|    Alberta Freund|    DB|1671638|   98|Clementina Menke_...|        120|81.66666666666667|\n| 29|  Male|    Melani Engberg|    DB|2941257|   98|Claude Panos_Kena...|        120|81.66666666666667|\n| 29|Female|  Clementina Menke|   DSA|3982381|   98|Tamera Blakley_Ki...|        120|81.66666666666667|\n| 29|Female|  Lawanda Wohlwend| Cloud|7222880|   98|Sheryll Towler_An...|        120|81.66666666666667|\n| 28|Female|    Somer Stoecker|    PF|5882098|   98|Judie Chipps_Clem...|        120|81.66666666666667|\n| 28|  Male|  Clementina Menke|   DSA|2772189|   98|Donna Yerby_Judie...|        120|81.66666666666667|\n| 28|Female|      Judie Chipps|   DSA|4631068|   98|Toshiko Hillyard_...|        120|81.66666666666667|\n| 28|  Male|    Jenna Montague|   OOP|3331161|   98|Leontine Phillips...|        120|81.66666666666667|\n+---+------+------------------+------+-------+-----+--------------------+-----------+-----------------+\nonly showing top 20 rows\n\n"
     ]
    }
   ],
   "source": [
    "dfSorted = df.sort(df.average.desc(), df.age.desc())\n",
    "dfSorted.show()\n",
    "\n",
    "# Sort the rows based on grades and then ages in that subset of grades"
   ]
  },
  {
   "cell_type": "code",
   "execution_count": 0,
   "metadata": {
    "application/vnd.databricks.v1+cell": {
     "cellMetadata": {
      "byteLimit": 2048000,
      "rowLimit": 10000
     },
     "inputWidgets": {},
     "nuid": "b78c687e-30c2-4a17-9352-6c4e4d7f7c06",
     "showTitle": false,
     "title": ""
    }
   },
   "outputs": [
    {
     "output_type": "stream",
     "name": "stdout",
     "output_type": "stream",
     "text": [
      "+------+-----+\n|course|count|\n+------+-----+\n|    PF|  166|\n|    DB|  157|\n|   MVC|  157|\n|   DSA|  176|\n| Cloud|  192|\n|   OOP|  152|\n+------+-----+\n\n"
     ]
    }
   ],
   "source": [
    "df.groupBy(\"course\").count().show()\n",
    "# Find the number of students in each course"
   ]
  },
  {
   "cell_type": "code",
   "execution_count": 0,
   "metadata": {
    "application/vnd.databricks.v1+cell": {
     "cellMetadata": {
      "byteLimit": 2048000,
      "rowLimit": 10000
     },
     "inputWidgets": {},
     "nuid": "f522e599-e1a8-4ff8-91c5-71ea8ccf480f",
     "showTitle": false,
     "title": ""
    }
   },
   "outputs": [
    {
     "output_type": "stream",
     "name": "stdout",
     "output_type": "stream",
     "text": [
      "+------+-----------------+\n|course|     avg(average)|\n+------+-----------------+\n|    PF|49.86445783132531|\n|    DB|49.20382165605096|\n|   MVC|50.87579617834398|\n|   DSA| 51.8465909090909|\n| Cloud|49.66579861111109|\n|   OOP|48.88157894736844|\n+------+-----------------+\n\n"
     ]
    }
   ],
   "source": [
    "df.groupBy(\"course\").avg(\"average\").show()\n",
    "# Find the average per course"
   ]
  },
  {
   "cell_type": "code",
   "execution_count": 0,
   "metadata": {
    "application/vnd.databricks.v1+cell": {
     "cellMetadata": {
      "byteLimit": 2048000,
      "rowLimit": 10000
     },
     "inputWidgets": {},
     "nuid": "f7f8b1aa-be81-4bd3-9ef2-f20ae740520b",
     "showTitle": false,
     "title": ""
    }
   },
   "outputs": [
    {
     "output_type": "stream",
     "name": "stdout",
     "output_type": "stream",
     "text": [
      "+------+------+------------------+\n|course|gender|     average marks|\n+------+------+------------------+\n|   OOP|  Male| 50.40476190476189|\n|    DB|  Male| 51.55487804878047|\n| Cloud|Female|49.654088050314456|\n|   MVC|  Male| 50.78488372093019|\n|   DSA|Female|52.074829931972786|\n|    PF|  Male|51.202749140893474|\n|   MVC|Female|50.985915492957744|\n| Cloud|  Male| 49.68023255813954|\n|    PF|Female| 47.98309178743959|\n|   DSA|  Male|51.559829059829056|\n|    DB|Female| 46.63333333333335|\n|   OOP|Female| 47.58130081300813|\n+------+------+------------------+\n\n"
     ]
    }
   ],
   "source": [
    "from pyspark.sql.functions import avg\n",
    "df.groupBy(\"course\", \"gender\").agg(avg(\"average\").alias(\"average marks\")).show()\n",
    "# Find the average per course for the gender"
   ]
  },
  {
   "cell_type": "code",
   "execution_count": 0,
   "metadata": {
    "application/vnd.databricks.v1+cell": {
     "cellMetadata": {},
     "inputWidgets": {},
     "nuid": "e5638d82-dba6-4a06-bee2-cf45383bfa92",
     "showTitle": false,
     "title": ""
    }
   },
   "outputs": [],
   "source": []
  }
 ],
 "metadata": {
  "application/vnd.databricks.v1+notebook": {
   "dashboards": [],
   "language": "python",
   "notebookMetadata": {
    "pythonIndentUnit": 4
   },
   "notebookName": "Simple Data Set",
   "widgets": {}
  }
 },
 "nbformat": 4,
 "nbformat_minor": 0
}
