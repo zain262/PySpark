{
 "cells": [
  {
   "cell_type": "code",
   "execution_count": 0,
   "metadata": {
    "application/vnd.databricks.v1+cell": {
     "cellMetadata": {
      "byteLimit": 2048000,
      "rowLimit": 10000
     },
     "inputWidgets": {},
     "nuid": "f2c9c0ff-a083-4582-944b-f9ab2b2a97a8",
     "showTitle": false,
     "title": ""
    }
   },
   "outputs": [],
   "source": [
    "from pyspark import SparkConf, SparkContext\n",
    "conf = SparkConf().setAppName(\"Filter\")\n",
    "sc = SparkContext.getOrCreate(conf)\n",
    "\n",
    "# The goal is to filter out all words that start with \"L\""
   ]
  },
  {
   "cell_type": "code",
   "execution_count": 0,
   "metadata": {
    "application/vnd.databricks.v1+cell": {
     "cellMetadata": {
      "byteLimit": 2048000,
      "rowLimit": 10000
     },
     "inputWidgets": {},
     "nuid": "df33688c-f48e-470e-b0ad-8fd00a451397",
     "showTitle": false,
     "title": ""
    }
   },
   "outputs": [],
   "source": [
    "rdd = sc.textFile(\"/FileStore/tables/filter.txt\")\n",
    "# Read file from storeage"
   ]
  },
  {
   "cell_type": "code",
   "execution_count": 0,
   "metadata": {
    "application/vnd.databricks.v1+cell": {
     "cellMetadata": {
      "byteLimit": 2048000,
      "rowLimit": 10000
     },
     "inputWidgets": {},
     "nuid": "7aeff625-3154-48f9-99ef-ef40b6a48115",
     "showTitle": false,
     "title": ""
    }
   },
   "outputs": [
    {
     "output_type": "stream",
     "name": "stdout",
     "output_type": "stream",
     "text": [
      "Out[5]: ['lebron james is amazing',\n 'he plays basketball',\n 'hes been playing basketball for 20+ years',\n 'there is no question he is the GOAT',\n 'no question at all']"
     ]
    }
   ],
   "source": [
    "rdd.collect()\n",
    "#Display the content of the file"
   ]
  },
  {
   "cell_type": "code",
   "execution_count": 0,
   "metadata": {
    "application/vnd.databricks.v1+cell": {
     "cellMetadata": {
      "byteLimit": 2048000,
      "rowLimit": 10000
     },
     "inputWidgets": {},
     "nuid": "b5328ac1-f3de-4e8c-9282-481be59ad740",
     "showTitle": false,
     "title": ""
    }
   },
   "outputs": [
    {
     "output_type": "stream",
     "name": "stdout",
     "output_type": "stream",
     "text": [
      "Out[6]: ['lebron',\n 'james',\n 'is',\n 'amazing',\n 'he',\n 'plays',\n 'basketball',\n 'hes',\n 'been',\n 'playing',\n 'basketball',\n 'for',\n '20+',\n 'years',\n 'there',\n 'is',\n 'no',\n 'question',\n 'he',\n 'is',\n 'the',\n 'GOAT',\n 'no',\n 'question',\n 'at',\n 'all']"
     ]
    }
   ],
   "source": [
    "fmap = rdd.flatMap(lambda x: x.split(\" \"))\n",
    "fmap.collect()"
   ]
  },
  {
   "cell_type": "code",
   "execution_count": 0,
   "metadata": {
    "application/vnd.databricks.v1+cell": {
     "cellMetadata": {
      "byteLimit": 2048000,
      "rowLimit": 10000
     },
     "inputWidgets": {},
     "nuid": "fad1aae7-a28e-4c9a-84ac-7b20f825668f",
     "showTitle": false,
     "title": ""
    }
   },
   "outputs": [],
   "source": [
    "# Create a simple function to check weather a word starts with L and not\n",
    "def filterL(x):\n",
    "    if x.startswith(\"L\"):\n",
    "        return False\n",
    "    else:\n",
    "        return True\n",
    "\n",
    "# Apply the filter on the data\n",
    "filt = fmap.filter(filterL)\n"
   ]
  },
  {
   "cell_type": "code",
   "execution_count": 0,
   "metadata": {
    "application/vnd.databricks.v1+cell": {
     "cellMetadata": {
      "byteLimit": 2048000,
      "rowLimit": 10000
     },
     "inputWidgets": {},
     "nuid": "7264a030-6b7f-4671-96b3-d7dd384c3b58",
     "showTitle": false,
     "title": ""
    }
   },
   "outputs": [
    {
     "output_type": "stream",
     "name": "stdout",
     "output_type": "stream",
     "text": [
      "Out[11]: ['lebron',\n 'james',\n 'is',\n 'amazing',\n 'he',\n 'plays',\n 'basketball',\n 'hes',\n 'been',\n 'playing',\n 'basketball',\n 'for',\n '20+',\n 'years',\n 'there',\n 'is',\n 'no',\n 'question',\n 'he',\n 'is',\n 'the',\n 'GOAT',\n 'no',\n 'question',\n 'at',\n 'all']"
     ]
    }
   ],
   "source": [
    "# Output filtered data\n",
    "filt.collect()"
   ]
  }
 ],
 "metadata": {
  "application/vnd.databricks.v1+notebook": {
   "dashboards": [],
   "language": "python",
   "notebookMetadata": {
    "pythonIndentUnit": 4
   },
   "notebookName": "Filter",
   "widgets": {}
  }
 },
 "nbformat": 4,
 "nbformat_minor": 0
}
