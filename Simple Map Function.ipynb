{
 "cells": [
  {
   "cell_type": "code",
   "execution_count": 0,
   "metadata": {
    "application/vnd.databricks.v1+cell": {
     "cellMetadata": {
      "byteLimit": 2048000,
      "rowLimit": 10000
     },
     "inputWidgets": {},
     "nuid": "984e7ad1-4be1-47ea-88e3-6f263029dea4",
     "showTitle": false,
     "title": ""
    }
   },
   "outputs": [],
   "source": [
    "from pyspark import SparkConf, SparkContext\n",
    "\n",
    "# Create a simple mapping function that shows the lenght of each word in the text file provided\n",
    "\n",
    "conf = SparkConf().setAppName(\"Mapping\")\n",
    "sc = SparkContext.getOrCreate(conf)"
   ]
  },
  {
   "cell_type": "code",
   "execution_count": 0,
   "metadata": {
    "application/vnd.databricks.v1+cell": {
     "cellMetadata": {
      "byteLimit": 2048000,
      "rowLimit": 10000
     },
     "inputWidgets": {},
     "nuid": "23eca4a5-40a7-455c-9eb7-444221a94a58",
     "showTitle": false,
     "title": ""
    }
   },
   "outputs": [],
   "source": [
    "# Read in the file\n",
    "rdd = sc.textFile(\"/FileStore/tables/test.txt\")"
   ]
  },
  {
   "cell_type": "code",
   "execution_count": 0,
   "metadata": {
    "application/vnd.databricks.v1+cell": {
     "cellMetadata": {
      "byteLimit": 2048000,
      "rowLimit": 10000
     },
     "inputWidgets": {},
     "nuid": "deddc1ec-1a7f-410d-9753-cea1899711e4",
     "showTitle": false,
     "title": ""
    }
   },
   "outputs": [
    {
     "output_type": "stream",
     "name": "stdout",
     "output_type": "stream",
     "text": [
      "Out[13]: ['Hi how are you?', 'Hope you are doing good', 'great']"
     ]
    }
   ],
   "source": [
    "# Display the file contents\n",
    "rdd.collect()"
   ]
  },
  {
   "cell_type": "code",
   "execution_count": 0,
   "metadata": {
    "application/vnd.databricks.v1+cell": {
     "cellMetadata": {
      "byteLimit": 2048000,
      "rowLimit": 10000
     },
     "inputWidgets": {},
     "nuid": "dcecc449-d00e-46d0-9fcb-05a1480c1fc0",
     "showTitle": false,
     "title": ""
    }
   },
   "outputs": [],
   "source": [
    "# Define a function that splits the words based on spaces and then calculates and stores the length of each string\n",
    "\n",
    "def sizeCounter(x):\n",
    "    l=x.split(\" \")\n",
    "    lenght = [];\n",
    "    for s in l:\n",
    "        lenght.append(len(s))\n",
    "    \n",
    "    return lenght\n",
    "\n",
    "# Map the function\n",
    "sep = rdd.map(sizeCounter)"
   ]
  },
  {
   "cell_type": "code",
   "execution_count": 0,
   "metadata": {
    "application/vnd.databricks.v1+cell": {
     "cellMetadata": {
      "byteLimit": 2048000,
      "rowLimit": 10000
     },
     "inputWidgets": {},
     "nuid": "2ed21834-0b6f-47bf-9ecb-264fae6bdf2d",
     "showTitle": false,
     "title": ""
    }
   },
   "outputs": [
    {
     "output_type": "stream",
     "name": "stdout",
     "output_type": "stream",
     "text": [
      "Out[10]: [[2, 3, 3, 4], [4, 3, 3, 5, 4], [5]]"
     ]
    }
   ],
   "source": [
    "# Final output\n",
    "sep.collect()"
   ]
  },
  {
   "cell_type": "code",
   "execution_count": 0,
   "metadata": {
    "application/vnd.databricks.v1+cell": {
     "cellMetadata": {},
     "inputWidgets": {},
     "nuid": "76e49c0c-2994-484a-92a7-df5d83d17046",
     "showTitle": false,
     "title": ""
    }
   },
   "outputs": [],
   "source": []
  }
 ],
 "metadata": {
  "application/vnd.databricks.v1+notebook": {
   "dashboards": [],
   "language": "python",
   "notebookMetadata": {
    "pythonIndentUnit": 4
   },
   "notebookName": "Simple Map Function",
   "widgets": {}
  }
 },
 "nbformat": 4,
 "nbformat_minor": 0
}
